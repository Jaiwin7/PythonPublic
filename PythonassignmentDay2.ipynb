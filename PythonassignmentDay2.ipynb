{
  "nbformat": 4,
  "nbformat_minor": 0,
  "metadata": {
    "colab": {
      "name": "PythonassignmentDay2.ipynb",
      "provenance": [],
      "authorship_tag": "ABX9TyMPJTM8dlLEivWzZH7O2XzB",
      "include_colab_link": true
    },
    "kernelspec": {
      "name": "python3",
      "display_name": "Python 3"
    },
    "language_info": {
      "name": "python"
    }
  },
  "cells": [
    {
      "cell_type": "markdown",
      "metadata": {
        "id": "view-in-github",
        "colab_type": "text"
      },
      "source": [
        "<a href=\"https://colab.research.google.com/github/Jaiwin7/PythonPublic/blob/main/PythonassignmentDay2.ipynb\" target=\"_parent\"><img src=\"https://colab.research.google.com/assets/colab-badge.svg\" alt=\"Open In Colab\"/></a>"
      ]
    },
    {
      "cell_type": "code",
      "metadata": {
        "id": "_rD1InvuWPjX"
      },
      "source": [
        "List_of_glasses = ['Fastrack','Ray-Ban','Vogue','Rolex','Titan']\n",
        "List_of_watches = ['Swatch','Fossil','Fastrack','Rolex','Casio','Titan']"
      ],
      "execution_count": 1,
      "outputs": []
    },
    {
      "cell_type": "code",
      "metadata": {
        "colab": {
          "base_uri": "https://localhost:8080/"
        },
        "id": "dJzoPu-DWUgH",
        "outputId": "0125b4f6-e688-4644-d030-8874d7430475"
      },
      "source": [
        "List_of_glasses"
      ],
      "execution_count": 2,
      "outputs": [
        {
          "output_type": "execute_result",
          "data": {
            "text/plain": [
              "['Fastrack', 'Ray-Ban', 'Vogue', 'Rolex', 'Titan']"
            ]
          },
          "metadata": {
            "tags": []
          },
          "execution_count": 2
        }
      ]
    },
    {
      "cell_type": "code",
      "metadata": {
        "colab": {
          "base_uri": "https://localhost:8080/"
        },
        "id": "i53xv8MDWXjx",
        "outputId": "32f22b37-b4e7-425e-96d0-917babb18213"
      },
      "source": [
        "List_of_watches"
      ],
      "execution_count": 3,
      "outputs": [
        {
          "output_type": "execute_result",
          "data": {
            "text/plain": [
              "['Swatch', 'Fossil', 'Fastrack', 'Rolex', 'Casio', 'Titan']"
            ]
          },
          "metadata": {
            "tags": []
          },
          "execution_count": 3
        }
      ]
    },
    {
      "cell_type": "code",
      "metadata": {
        "colab": {
          "base_uri": "https://localhost:8080/"
        },
        "id": "ZGM_zJRzWdsY",
        "outputId": "b2736a73-286c-43d0-ec8b-c84a8c8bbd63"
      },
      "source": [
        "List_of_overlapping = [value for value in List_of_glasses if value in List_of_watches]\n",
        "List_of_overlapping"
      ],
      "execution_count": 4,
      "outputs": [
        {
          "output_type": "execute_result",
          "data": {
            "text/plain": [
              "['Fastrack', 'Rolex', 'Titan']"
            ]
          },
          "metadata": {
            "tags": []
          },
          "execution_count": 4
        }
      ]
    },
    {
      "cell_type": "code",
      "metadata": {
        "colab": {
          "base_uri": "https://localhost:8080/"
        },
        "id": "iTC2T0JIO8vO",
        "outputId": "d0d96245-422c-4438-dd67-56974378fb2c"
      },
      "source": [
        "start, end = 20, 40\n",
        "\n",
        "print('All even number in the range')\n",
        "\n",
        "for num in range(start, end + 1):\n",
        "    if num % 2 == 0:\n",
        "        print(num, end = \" \")\n"
      ],
      "execution_count": 5,
      "outputs": [
        {
          "output_type": "stream",
          "text": [
            "All even number in the range\n",
            "20 22 24 26 28 30 32 34 36 38 40 "
          ],
          "name": "stdout"
        }
      ]
    }
  ]
}